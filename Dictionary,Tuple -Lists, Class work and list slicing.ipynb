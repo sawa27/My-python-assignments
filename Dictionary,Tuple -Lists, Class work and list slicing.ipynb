{
 "cells": [
  {
   "cell_type": "code",
   "execution_count": 17,
   "id": "9bdf800a",
   "metadata": {},
   "outputs": [],
   "source": [
    "a = [23,[45,14],[78,39,14,56],101,[23,24],56]\n"
   ]
  },
  {
   "cell_type": "code",
   "execution_count": 16,
   "id": "9903fff7",
   "metadata": {},
   "outputs": [
    {
     "data": {
      "text/plain": [
       "[78, 39, 14, 56]"
      ]
     },
     "execution_count": 16,
     "metadata": {},
     "output_type": "execute_result"
    }
   ],
   "source": [
    "a[2][(0):(4)]"
   ]
  },
  {
   "cell_type": "code",
   "execution_count": 18,
   "id": "98e06530",
   "metadata": {},
   "outputs": [
    {
     "data": {
      "text/plain": [
       "[101, [23, 24], 56]"
      ]
     },
     "execution_count": 18,
     "metadata": {},
     "output_type": "execute_result"
    }
   ],
   "source": [
    "a[3:7]"
   ]
  },
  {
   "cell_type": "code",
   "execution_count": 20,
   "id": "812f239a",
   "metadata": {},
   "outputs": [
    {
     "data": {
      "text/plain": [
       "[[78, 39, 14, 56], 101, [23, 24], 56]"
      ]
     },
     "execution_count": 20,
     "metadata": {},
     "output_type": "execute_result"
    }
   ],
   "source": [
    "a[2:]"
   ]
  },
  {
   "cell_type": "code",
   "execution_count": 21,
   "id": "f36286a0",
   "metadata": {},
   "outputs": [],
   "source": [
    "a = (1,2,3,4,5,6,7,8,9,10)"
   ]
  },
  {
   "cell_type": "code",
   "execution_count": 23,
   "id": "69c5ff89",
   "metadata": {},
   "outputs": [
    {
     "data": {
      "text/plain": [
       "55"
      ]
     },
     "execution_count": 23,
     "metadata": {},
     "output_type": "execute_result"
    }
   ],
   "source": [
    "sum(a)"
   ]
  },
  {
   "cell_type": "code",
   "execution_count": 24,
   "id": "418f99df",
   "metadata": {},
   "outputs": [
    {
     "data": {
      "text/plain": [
       "10"
      ]
     },
     "execution_count": 24,
     "metadata": {},
     "output_type": "execute_result"
    }
   ],
   "source": [
    "max(a)"
   ]
  },
  {
   "cell_type": "code",
   "execution_count": 26,
   "id": "bbd26e7c",
   "metadata": {},
   "outputs": [
    {
     "name": "stdout",
     "output_type": "stream",
     "text": [
      "9\n"
     ]
    }
   ],
   "source": [
    "b = max(a)\n",
    "c = min(a)\n",
    "\n",
    "print(b-c)"
   ]
  },
  {
   "cell_type": "code",
   "execution_count": 48,
   "id": "d42102ee",
   "metadata": {},
   "outputs": [
    {
     "name": "stdout",
     "output_type": "stream",
     "text": [
      "3628800\n"
     ]
    }
   ],
   "source": [
    "total = 1\n",
    "for i in (a):\n",
    "    total = total*i\n",
    "print(total)"
   ]
  },
  {
   "cell_type": "code",
   "execution_count": 47,
   "id": "a71599d8",
   "metadata": {},
   "outputs": [
    {
     "data": {
      "text/plain": [
       "(1, 2, 3, 4, 5, 6, 7, 8, 9, 10)"
      ]
     },
     "execution_count": 47,
     "metadata": {},
     "output_type": "execute_result"
    }
   ],
   "source": [
    "a\n"
   ]
  },
  {
   "cell_type": "code",
   "execution_count": 49,
   "id": "867b3d19",
   "metadata": {},
   "outputs": [
    {
     "data": {
      "text/plain": [
       "True"
      ]
     },
     "execution_count": 49,
     "metadata": {},
     "output_type": "execute_result"
    }
   ],
   "source": [
    "[1,2,3] == [1,2,3]"
   ]
  },
  {
   "cell_type": "code",
   "execution_count": 50,
   "id": "41f0409f",
   "metadata": {},
   "outputs": [
    {
     "data": {
      "text/plain": [
       "True"
      ]
     },
     "execution_count": 50,
     "metadata": {},
     "output_type": "execute_result"
    }
   ],
   "source": [
    "DICTIONARY: No slicing\n",
    "\n",
    "t1 = {'size': 'fat', 'colour': 'grey', 'disposition': 'loud'}\n",
    "t2 = {'colour': 'grey', 'size': 'fat', 'disposition': 'loud'}\n",
    "t1 == t2"
   ]
  },
  {
   "cell_type": "code",
   "execution_count": 52,
   "id": "8575384b",
   "metadata": {},
   "outputs": [
    {
     "data": {
      "text/plain": [
       "'fat'"
      ]
     },
     "execution_count": 52,
     "metadata": {},
     "output_type": "execute_result"
    }
   ],
   "source": [
    "t1['size']"
   ]
  },
  {
   "cell_type": "code",
   "execution_count": 53,
   "id": "406c38e5",
   "metadata": {},
   "outputs": [],
   "source": [
    "t1['height'] = 30"
   ]
  },
  {
   "cell_type": "code",
   "execution_count": 54,
   "id": "51c9f057",
   "metadata": {},
   "outputs": [
    {
     "data": {
      "text/plain": [
       "{'size': 'fat', 'colour': 'grey', 'disposition': 'loud', 'height': 30}"
      ]
     },
     "execution_count": 54,
     "metadata": {},
     "output_type": "execute_result"
    }
   ],
   "source": [
    "t1"
   ]
  },
  {
   "cell_type": "code",
   "execution_count": 55,
   "id": "0bf8de92",
   "metadata": {},
   "outputs": [
    {
     "data": {
      "text/plain": [
       "30"
      ]
     },
     "execution_count": 55,
     "metadata": {},
     "output_type": "execute_result"
    }
   ],
   "source": [
    "t1['height']"
   ]
  },
  {
   "cell_type": "code",
   "execution_count": 56,
   "id": "d6338406",
   "metadata": {},
   "outputs": [],
   "source": [
    "t1['weight'] = 80"
   ]
  },
  {
   "cell_type": "code",
   "execution_count": 57,
   "id": "2ce00bec",
   "metadata": {},
   "outputs": [
    {
     "data": {
      "text/plain": [
       "{'size': 'fat',\n",
       " 'colour': 'grey',\n",
       " 'disposition': 'loud',\n",
       " 'height': 30,\n",
       " 'weight': 80}"
      ]
     },
     "execution_count": 57,
     "metadata": {},
     "output_type": "execute_result"
    }
   ],
   "source": [
    "t1"
   ]
  },
  {
   "cell_type": "code",
   "execution_count": 58,
   "id": "82f02986",
   "metadata": {},
   "outputs": [
    {
     "data": {
      "text/plain": [
       "dict_keys(['size', 'colour', 'disposition', 'height', 'weight'])"
      ]
     },
     "execution_count": 58,
     "metadata": {},
     "output_type": "execute_result"
    }
   ],
   "source": [
    "t1.keys()"
   ]
  },
  {
   "cell_type": "code",
   "execution_count": 61,
   "id": "8540c0b4",
   "metadata": {},
   "outputs": [
    {
     "name": "stdout",
     "output_type": "stream",
     "text": [
      "size\n",
      "colour\n",
      "disposition\n",
      "height\n",
      "weight\n"
     ]
    }
   ],
   "source": [
    "for i in t1.keys():\n",
    "    print(i)"
   ]
  },
  {
   "cell_type": "code",
   "execution_count": 65,
   "id": "378faebe",
   "metadata": {},
   "outputs": [
    {
     "data": {
      "text/plain": [
       "dict_values(['fat', 'grey', 'loud', 30, 80])"
      ]
     },
     "execution_count": 65,
     "metadata": {},
     "output_type": "execute_result"
    }
   ],
   "source": [
    "t1.values()"
   ]
  },
  {
   "cell_type": "code",
   "execution_count": 67,
   "id": "43739c8b",
   "metadata": {},
   "outputs": [],
   "source": [
    "def redeem_me():\n",
    "    print('Hello')"
   ]
  },
  {
   "cell_type": "code",
   "execution_count": 68,
   "id": "0f3616ad",
   "metadata": {},
   "outputs": [
    {
     "name": "stdout",
     "output_type": "stream",
     "text": [
      "Hello\n"
     ]
    }
   ],
   "source": [
    "redeem_me()"
   ]
  },
  {
   "cell_type": "code",
   "execution_count": 69,
   "id": "969eaef0",
   "metadata": {},
   "outputs": [],
   "source": [
    "def redeem_me(name):\n",
    "    print(f'Hello {name}')"
   ]
  },
  {
   "cell_type": "code",
   "execution_count": 71,
   "id": "ae15a294",
   "metadata": {},
   "outputs": [
    {
     "name": "stdout",
     "output_type": "stream",
     "text": [
      "Hello Dami\n"
     ]
    }
   ],
   "source": [
    "redeem_me('Dami')"
   ]
  },
  {
   "cell_type": "code",
   "execution_count": 72,
   "id": "38482c95",
   "metadata": {},
   "outputs": [],
   "source": [
    "def redeem_me(name= 'Unknown'):\n",
    "    print(f'Hello {name}')"
   ]
  },
  {
   "cell_type": "code",
   "execution_count": 74,
   "id": "c9aba64e",
   "metadata": {},
   "outputs": [
    {
     "name": "stdout",
     "output_type": "stream",
     "text": [
      "Hello Unknown\n"
     ]
    }
   ],
   "source": [
    "redeem_me()"
   ]
  },
  {
   "cell_type": "code",
   "execution_count": 81,
   "id": "9f4796e9",
   "metadata": {},
   "outputs": [],
   "source": [
    "def add_numbers(a,b):\n",
    "    print(a+b)"
   ]
  },
  {
   "cell_type": "code",
   "execution_count": 82,
   "id": "fe3e7303",
   "metadata": {},
   "outputs": [
    {
     "name": "stdout",
     "output_type": "stream",
     "text": [
      "11\n"
     ]
    }
   ],
   "source": [
    "add_numbers(3,8)"
   ]
  },
  {
   "cell_type": "code",
   "execution_count": null,
   "id": "b4f0ef5e",
   "metadata": {},
   "outputs": [],
   "source": [
    "def converter()"
   ]
  }
 ],
 "metadata": {
  "kernelspec": {
   "display_name": "Python 3 (ipykernel)",
   "language": "python",
   "name": "python3"
  },
  "language_info": {
   "codemirror_mode": {
    "name": "ipython",
    "version": 3
   },
   "file_extension": ".py",
   "mimetype": "text/x-python",
   "name": "python",
   "nbconvert_exporter": "python",
   "pygments_lexer": "ipython3",
   "version": "3.9.12"
  }
 },
 "nbformat": 4,
 "nbformat_minor": 5
}
