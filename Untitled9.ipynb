{
 "cells": [
  {
   "cell_type": "code",
   "execution_count": 12,
   "id": "7995d2e1",
   "metadata": {},
   "outputs": [
    {
     "data": {
      "text/plain": [
       "'0b10000010001'"
      ]
     },
     "execution_count": 12,
     "metadata": {},
     "output_type": "execute_result"
    }
   ],
   "source": [
    "bin(1041)"
   ]
  },
  {
   "cell_type": "code",
   "execution_count": 13,
   "id": "74be2fce",
   "metadata": {},
   "outputs": [
    {
     "data": {
      "text/plain": [
       "'10000010001'"
      ]
     },
     "execution_count": 13,
     "metadata": {},
     "output_type": "execute_result"
    }
   ],
   "source": [
    "bin(1041)[2:]"
   ]
  },
  {
   "cell_type": "code",
   "execution_count": 14,
   "id": "c0409f17",
   "metadata": {},
   "outputs": [],
   "source": [
    "binary_string = bin(1041)[2:]"
   ]
  },
  {
   "cell_type": "code",
   "execution_count": 15,
   "id": "a0ad118c",
   "metadata": {},
   "outputs": [
    {
     "data": {
      "text/plain": [
       "'10000010001'"
      ]
     },
     "execution_count": 15,
     "metadata": {},
     "output_type": "execute_result"
    }
   ],
   "source": [
    "binary_string"
   ]
  },
  {
   "cell_type": "code",
   "execution_count": 19,
   "id": "49c6b739",
   "metadata": {},
   "outputs": [
    {
     "data": {
      "text/plain": [
       "['', '00000', '000', '']"
      ]
     },
     "execution_count": 19,
     "metadata": {},
     "output_type": "execute_result"
    }
   ],
   "source": [
    "binary_string.split('1')"
   ]
  },
  {
   "cell_type": "code",
   "execution_count": 20,
   "id": "5cc806a9",
   "metadata": {},
   "outputs": [],
   "source": [
    "binary_list = binary_string.split('1')"
   ]
  },
  {
   "cell_type": "code",
   "execution_count": 21,
   "id": "dd6dd065",
   "metadata": {},
   "outputs": [
    {
     "data": {
      "text/plain": [
       "['', '00000', '000', '']"
      ]
     },
     "execution_count": 21,
     "metadata": {},
     "output_type": "execute_result"
    }
   ],
   "source": [
    "binary_list"
   ]
  },
  {
   "cell_type": "code",
   "execution_count": 23,
   "id": "d593e152",
   "metadata": {},
   "outputs": [
    {
     "name": "stdout",
     "output_type": "stream",
     "text": [
      "5\n"
     ]
    }
   ],
   "source": [
    "current_len = 0\n",
    "max_len = 0\n",
    "\n",
    "for i in binary_list:\n",
    "    current_len = len(i)\n",
    "    \n",
    "    if current_len > max_len:\n",
    "        max_len = current_len\n",
    "print(max_len)\n",
    "    "
   ]
  },
  {
   "cell_type": "code",
   "execution_count": 24,
   "id": "d76ec063",
   "metadata": {},
   "outputs": [
    {
     "data": {
      "text/plain": [
       "'0b100000'"
      ]
     },
     "execution_count": 24,
     "metadata": {},
     "output_type": "execute_result"
    }
   ],
   "source": [
    "bin(32)"
   ]
  },
  {
   "cell_type": "code",
   "execution_count": 25,
   "id": "d670b192",
   "metadata": {},
   "outputs": [
    {
     "data": {
      "text/plain": [
       "'100000'"
      ]
     },
     "execution_count": 25,
     "metadata": {},
     "output_type": "execute_result"
    }
   ],
   "source": [
    "bin(32)[2:]"
   ]
  },
  {
   "cell_type": "code",
   "execution_count": 26,
   "id": "4041079a",
   "metadata": {},
   "outputs": [],
   "source": [
    "binary_string_32 = bin(32)[2:]"
   ]
  },
  {
   "cell_type": "code",
   "execution_count": 35,
   "id": "ec348d78",
   "metadata": {},
   "outputs": [
    {
     "data": {
      "text/plain": [
       "'100000'"
      ]
     },
     "execution_count": 35,
     "metadata": {},
     "output_type": "execute_result"
    }
   ],
   "source": [
    "binary_string_32\n"
   ]
  },
  {
   "cell_type": "code",
   "execution_count": 36,
   "id": "c23e3552",
   "metadata": {},
   "outputs": [],
   "source": [
    "binary_list_32 = binary_string_32.split('1')"
   ]
  },
  {
   "cell_type": "code",
   "execution_count": 37,
   "id": "a82c7e57",
   "metadata": {},
   "outputs": [
    {
     "data": {
      "text/plain": [
       "['', '00000']"
      ]
     },
     "execution_count": 37,
     "metadata": {},
     "output_type": "execute_result"
    }
   ],
   "source": [
    "binary_list_32"
   ]
  },
  {
   "cell_type": "code",
   "execution_count": 38,
   "id": "16daf1e5",
   "metadata": {},
   "outputs": [
    {
     "data": {
      "text/plain": [
       "'00000'"
      ]
     },
     "execution_count": 38,
     "metadata": {},
     "output_type": "execute_result"
    }
   ],
   "source": [
    "binary_list_32[-1]"
   ]
  },
  {
   "cell_type": "code",
   "execution_count": 39,
   "id": "2959bf74",
   "metadata": {},
   "outputs": [
    {
     "data": {
      "text/plain": [
       "5"
      ]
     },
     "execution_count": 39,
     "metadata": {},
     "output_type": "execute_result"
    }
   ],
   "source": [
    "len(binary_list_32[-1])"
   ]
  },
  {
   "cell_type": "code",
   "execution_count": 40,
   "id": "c682ae7b",
   "metadata": {},
   "outputs": [],
   "source": [
    "if len(binary_list_32[-1]) != 0:\n",
    "    binary_list_32.pop()"
   ]
  },
  {
   "cell_type": "code",
   "execution_count": 41,
   "id": "25b0d58e",
   "metadata": {},
   "outputs": [
    {
     "name": "stdout",
     "output_type": "stream",
     "text": [
      "0\n"
     ]
    }
   ],
   "source": [
    "current_len = 0\n",
    "max_len = 0\n",
    "\n",
    "for i in binary_list_32:\n",
    "    current_len = len(i)\n",
    "    \n",
    "    if current_len > max_len:\n",
    "        max_len = current_len\n",
    "print(max_len)"
   ]
  },
  {
   "cell_type": "code",
   "execution_count": 42,
   "id": "5e21e9de",
   "metadata": {},
   "outputs": [],
   "source": [
    "def solution(N):\n",
    "    # Convert number to binary\n",
    "    binary_string = bin(N)[2:]\n",
    "    \n",
    "    # Split binary string by '1'\n",
    "    binary_list = binary_string.split('1')\n",
    "    \n",
    "    if len(binary_list[-1]) != 0:\n",
    "        binary_list.pop()\n",
    "    \n",
    "    # Count the number of zero's\n",
    "        current_len = 0\n",
    "        max_len = 0\n",
    "\n",
    "        for i in binary_list:\n",
    "            current_len = len(i)\n",
    "        \n",
    "            if current_len > max_len:\n",
    "                max_len = current_len\n",
    "               \n",
    "    return max_len"
   ]
  },
  {
   "cell_type": "code",
   "execution_count": 43,
   "id": "a896ee30",
   "metadata": {},
   "outputs": [
    {
     "data": {
      "text/plain": [
       "0"
      ]
     },
     "execution_count": 43,
     "metadata": {},
     "output_type": "execute_result"
    }
   ],
   "source": [
    "solution(32)"
   ]
  },
  {
   "cell_type": "code",
   "execution_count": 45,
   "id": "c7a5b673",
   "metadata": {},
   "outputs": [],
   "source": [
    "word = 'racecar'"
   ]
  },
  {
   "cell_type": "code",
   "execution_count": 46,
   "id": "29af045d",
   "metadata": {},
   "outputs": [
    {
     "data": {
      "text/plain": [
       "'racecar'"
      ]
     },
     "execution_count": 46,
     "metadata": {},
     "output_type": "execute_result"
    }
   ],
   "source": [
    "word\n"
   ]
  },
  {
   "cell_type": "code",
   "execution_count": 50,
   "id": "248d04a8",
   "metadata": {},
   "outputs": [
    {
     "data": {
      "text/plain": [
       "['racecar']"
      ]
     },
     "execution_count": 50,
     "metadata": {},
     "output_type": "execute_result"
    }
   ],
   "source": [
    "word.split('')"
   ]
  },
  {
   "cell_type": "code",
   "execution_count": null,
   "id": "b9edd429",
   "metadata": {},
   "outputs": [],
   "source": []
  }
 ],
 "metadata": {
  "kernelspec": {
   "display_name": "Python 3 (ipykernel)",
   "language": "python",
   "name": "python3"
  },
  "language_info": {
   "codemirror_mode": {
    "name": "ipython",
    "version": 3
   },
   "file_extension": ".py",
   "mimetype": "text/x-python",
   "name": "python",
   "nbconvert_exporter": "python",
   "pygments_lexer": "ipython3",
   "version": "3.9.12"
  }
 },
 "nbformat": 4,
 "nbformat_minor": 5
}
