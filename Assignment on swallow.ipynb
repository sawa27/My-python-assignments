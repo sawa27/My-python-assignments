{
 "cells": [
  {
   "cell_type": "code",
   "execution_count": 15,
   "id": "d4a4e2fc",
   "metadata": {},
   "outputs": [
    {
     "name": "stdout",
     "output_type": "stream",
     "text": [
      "Welcome to Genesis, may I take your order? \n",
      "Would you like Fufu (F), Garri (G) or Pounded Yam (P)? P\n",
      "How many wraps would you like? \n",
      "2\n",
      "Which soup would you like with that? Egusi, Okro or Mixed? Egusi\n",
      "Which would go with that? Meat, Fish or None? Fish\n",
      "How much meat would yo like? \n",
      "2\n",
      "Your final bill is: N2600.\n"
     ]
    }
   ],
   "source": [
    "print('Welcome to Genesis, may I take your order? ')\n",
    "\n",
    "swallow = input(\"Would you like Fufu (F), Garri (G) or Pounded Yam (P)? \")\n",
    "print('How many wraps would you like? ')\n",
    "x = int(input())\n",
    "type_of_soup = input(\"Which soup would you like with that? Egusi, Okro or Mixed? \")\n",
    "protein = input(\"Which would go with that? Meat, Fish or None? \")\n",
    "print('How much meat would yo like? ')\n",
    "y = int(input())\n",
    "\n",
    "bill = 0\n",
    "\n",
    "if swallow == \"F\":\n",
    "    bill = bill + (x*50)\n",
    "if type_of_soup == \"Egusi\":\n",
    "    bill += 200\n",
    "if type_of_soup == \"Okro\":\n",
    "    bill += 200\n",
    "else:\n",
    "    bill += 300\n",
    "if protein == \"Meat\":\n",
    "    bill += (y*100)\n",
    "if protein == \"Fish\":\n",
    "    bill += (y*150)\n",
    "else:\n",
    "    bill += 0\n",
    "    \n",
    "    \n",
    "if swallow == \"G\":\n",
    "    bill = bill + (x*70)\n",
    "if type_of_soup == \"Egusi\":\n",
    "    bill += 200\n",
    "if type_of_soup == \"Okro\":\n",
    "    bill += 200\n",
    "else:\n",
    "    bill += 300\n",
    "if protein == \"Meat\":\n",
    "    bill += (y*100)\n",
    "if protein == \"Fish\":\n",
    "    bill += (y*150)\n",
    "else:\n",
    "    bill += 0\n",
    "    \n",
    "    \n",
    "if swallow == \"P\":\n",
    "    bill = bill + (x*100)\n",
    "if type_of_soup == \"Egusi\":\n",
    "    bill += 200\n",
    "if type_of_soup == \"Okro\":\n",
    "    bill += 200\n",
    "else:\n",
    "    bill += 300\n",
    "if protein == \"Meat\":\n",
    "    bill += (y*100)\n",
    "if protein == \"Fish\":\n",
    "    bill += (y*150)\n",
    "else:\n",
    "    bill += 0\n",
    "print(f\"Your final bill is: N{bill}.\")"
   ]
  },
  {
   "cell_type": "code",
   "execution_count": null,
   "id": "c811546a",
   "metadata": {},
   "outputs": [],
   "source": []
  }
 ],
 "metadata": {
  "kernelspec": {
   "display_name": "Python 3 (ipykernel)",
   "language": "python",
   "name": "python3"
  },
  "language_info": {
   "codemirror_mode": {
    "name": "ipython",
    "version": 3
   },
   "file_extension": ".py",
   "mimetype": "text/x-python",
   "name": "python",
   "nbconvert_exporter": "python",
   "pygments_lexer": "ipython3",
   "version": "3.9.12"
  }
 },
 "nbformat": 4,
 "nbformat_minor": 5
}
