{
 "cells": [
  {
   "cell_type": "code",
   "execution_count": 1,
   "id": "41f6d903",
   "metadata": {},
   "outputs": [],
   "source": [
    "spam=0\n",
    "while spam >5:\n",
    "    print(\"Hello, world.\")\n",
    "    spam = spam + 1"
   ]
  },
  {
   "cell_type": "code",
   "execution_count": 2,
   "id": "cfd5022a",
   "metadata": {},
   "outputs": [],
   "source": [
    "spam=0\n",
    "while spam >5:\n",
    "    print(\"Hello, world.\")\n",
    "    spam = spam + 1"
   ]
  },
  {
   "cell_type": "code",
   "execution_count": null,
   "id": "21d0480d",
   "metadata": {},
   "outputs": [],
   "source": []
  },
  {
   "cell_type": "code",
   "execution_count": null,
   "id": "7db6fe6c",
   "metadata": {},
   "outputs": [],
   "source": []
  }
 ],
 "metadata": {
  "kernelspec": {
   "display_name": "Python 3 (ipykernel)",
   "language": "python",
   "name": "python3"
  },
  "language_info": {
   "codemirror_mode": {
    "name": "ipython",
    "version": 3
   },
   "file_extension": ".py",
   "mimetype": "text/x-python",
   "name": "python",
   "nbconvert_exporter": "python",
   "pygments_lexer": "ipython3",
   "version": "3.9.12"
  }
 },
 "nbformat": 4,
 "nbformat_minor": 5
}
