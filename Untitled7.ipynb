{
 "cells": [
  {
   "cell_type": "code",
   "execution_count": 3,
   "id": "0917c956",
   "metadata": {},
   "outputs": [],
   "source": []
  },
  {
   "cell_type": "code",
   "execution_count": 4,
   "id": "a795117a",
   "metadata": {},
   "outputs": [
    {
     "name": "stdout",
     "output_type": "stream",
     "text": [
      "-10.555555555555555\n"
     ]
    }
   ],
   "source": [
    "fahcel(13)"
   ]
  },
  {
   "cell_type": "code",
   "execution_count": 5,
   "id": "8de02008",
   "metadata": {},
   "outputs": [],
   "source": [
    "def operation(a,b):\n",
    "    result_sum = a+b\n",
    "    result_sub = a-b\n",
    "    result_mul = a*b\n",
    "    result_div = a/b\n",
    "    \n",
    "    return result_sum, result_sub, result_mul, result_div"
   ]
  },
  {
   "cell_type": "code",
   "execution_count": 6,
   "id": "c94acf45",
   "metadata": {},
   "outputs": [
    {
     "data": {
      "text/plain": [
       "(12, -2, 35, 0.7142857142857143)"
      ]
     },
     "execution_count": 6,
     "metadata": {},
     "output_type": "execute_result"
    }
   ],
   "source": [
    "operation(5, 7)"
   ]
  },
  {
   "cell_type": "code",
   "execution_count": 22,
   "id": "abb70bf4",
   "metadata": {},
   "outputs": [
    {
     "name": "stdout",
     "output_type": "stream",
     "text": [
      "0\n",
      "54\n",
      "1.2\n",
      "37.5\n",
      "You are overweight\n",
      "1\n",
      "78\n",
      "2.3\n",
      "14.744801512287337\n",
      "You are underweight\n",
      "2\n",
      "64\n",
      "1.8\n",
      "19.753086419753085\n",
      "You are normal\n",
      "3\n",
      "49\n",
      "2.34\n",
      "8.948791000073053\n",
      "You are underweight\n",
      "4\n",
      "56\n",
      "2.28\n",
      "10.772545398584182\n",
      "You are underweight\n"
     ]
    }
   ],
   "source": [
    "height = [1.2, 2.3, 1.8, 2.34, 2.28]\n",
    "weight = [54, 78, 64, 49,56]\n",
    "\n",
    "\n",
    "def BMI(w,h):\n",
    "    bmi = w / (h*h)\n",
    "    sent = ''\n",
    "    if bmi>=25:\n",
    "        sent = 'You are overweight'\n",
    "    elif bmi>=18.5:\n",
    "        sent = 'You are normal'\n",
    "    else:\n",
    "        sent = 'You are underweight'\n",
    "        \n",
    "    print(bmi)\n",
    "    print(sent)\n",
    "    \n",
    "\n",
    "for i in range(len(height)):\n",
    "    print(i)\n",
    "    print(weight[i])\n",
    "    print(height[i])\n",
    "    BMI(weight[i], height[i])\n",
    "   \n",
    "    "
   ]
  },
  {
   "cell_type": "code",
   "execution_count": 24,
   "id": "bbf9ec65",
   "metadata": {},
   "outputs": [
    {
     "name": "stdout",
     "output_type": "stream",
     "text": [
      "Help on built-in function print in module builtins:\n",
      "\n",
      "print(...)\n",
      "    print(value, ..., sep=' ', end='\\n', file=sys.stdout, flush=False)\n",
      "    \n",
      "    Prints the values to a stream, or to sys.stdout by default.\n",
      "    Optional keyword arguments:\n",
      "    file:  a file-like object (stream); defaults to the current sys.stdout.\n",
      "    sep:   string inserted between values, default a space.\n",
      "    end:   string appended after the last value, default a newline.\n",
      "    flush: whether to forcibly flush the stream.\n",
      "\n"
     ]
    }
   ],
   "source": [
    "help(print)"
   ]
  },
  {
   "cell_type": "code",
   "execution_count": 25,
   "id": "c0de9c09",
   "metadata": {},
   "outputs": [
    {
     "name": "stdout",
     "output_type": "stream",
     "text": [
      "Type help() for interactive help, or help(object) for help about object.\n"
     ]
    }
   ],
   "source": [
    "print()"
   ]
  },
  {
   "cell_type": "code",
   "execution_count": 26,
   "id": "d6fc17d2",
   "metadata": {},
   "outputs": [],
   "source": [
    "#Function to convert farhenrit to celcius\n",
    "def fahcel(c):\n",
    "    \"\"\"\n",
    "    Parameter: c (Int)\n",
    "    Return: result (Float)\n",
    "    \n",
    "    This function takes in a parameter c and converts it to F\n",
    "    \"\"\"\n",
    "    \n",
    "    result = (c -32) * (5/9)\n",
    "    print(result)"
   ]
  },
  {
   "cell_type": "code",
   "execution_count": 28,
   "id": "0270900e",
   "metadata": {},
   "outputs": [],
   "source": [
    "def findAvg(*args):\n",
    "    print(args)\n",
    "    print(sum(args)/len(args))"
   ]
  },
  {
   "cell_type": "code",
   "execution_count": 30,
   "id": "4a98d053",
   "metadata": {},
   "outputs": [
    {
     "name": "stdout",
     "output_type": "stream",
     "text": [
      "(1, 2, 3, 2, 8, 3, 8, 23)\n",
      "6.25\n"
     ]
    }
   ],
   "source": [
    "findAvg(1,2,3,2,8,3,8,23)"
   ]
  },
  {
   "cell_type": "code",
   "execution_count": 31,
   "id": "951d1277",
   "metadata": {},
   "outputs": [],
   "source": [
    "def stuff(**kargs):\n",
    "    print(kargs)"
   ]
  },
  {
   "cell_type": "code",
   "execution_count": 32,
   "id": "bed0dc2f",
   "metadata": {},
   "outputs": [
    {
     "name": "stdout",
     "output_type": "stream",
     "text": [
      "{'name': 'Kelly', 'age': 25, 'height': 1.2}\n"
     ]
    }
   ],
   "source": [
    "stuff(name='Kelly', age=25, height=1.2)"
   ]
  },
  {
   "cell_type": "code",
   "execution_count": 35,
   "id": "047b4a8c",
   "metadata": {},
   "outputs": [],
   "source": [
    "convert_F = lambda c:(c - 32) * (5/9)"
   ]
  },
  {
   "cell_type": "code",
   "execution_count": 36,
   "id": "aab6df0f",
   "metadata": {},
   "outputs": [
    {
     "data": {
      "text/plain": [
       "7.222222222222222"
      ]
     },
     "execution_count": 36,
     "metadata": {},
     "output_type": "execute_result"
    }
   ],
   "source": [
    "convert_F(45)"
   ]
  },
  {
   "cell_type": "code",
   "execution_count": 37,
   "id": "5a6852b7",
   "metadata": {},
   "outputs": [],
   "source": [
    "add_num = lambda a,b:a+b"
   ]
  },
  {
   "cell_type": "code",
   "execution_count": 38,
   "id": "4fd11844",
   "metadata": {},
   "outputs": [
    {
     "data": {
      "text/plain": [
       "12"
      ]
     },
     "execution_count": 38,
     "metadata": {},
     "output_type": "execute_result"
    }
   ],
   "source": [
    "add_num(5,7)"
   ]
  },
  {
   "cell_type": "code",
   "execution_count": 39,
   "id": "f7320471",
   "metadata": {},
   "outputs": [],
   "source": [
    "distance = lambda a,b,c,d:((a-b)^2 + (c-d)^2)^-2"
   ]
  },
  {
   "cell_type": "code",
   "execution_count": 40,
   "id": "3086162b",
   "metadata": {},
   "outputs": [
    {
     "data": {
      "text/plain": [
       "2"
      ]
     },
     "execution_count": 40,
     "metadata": {},
     "output_type": "execute_result"
    }
   ],
   "source": [
    "distance(1,2,3,4)"
   ]
  },
  {
   "cell_type": "code",
   "execution_count": 44,
   "id": "80dd6e9b",
   "metadata": {},
   "outputs": [
    {
     "name": "stdout",
     "output_type": "stream",
     "text": [
      "Enter a number2\n",
      "This is an even number\n"
     ]
    }
   ],
   "source": [
    "injd = int(input('Enter a number'))\n",
    "n = injd % 2\n",
    "if n > 0:\n",
    "    print('This is an odd number')\n",
    "else:\n",
    "    print('This is an even number')"
   ]
  },
  {
   "cell_type": "code",
   "execution_count": null,
   "id": "93935be7",
   "metadata": {},
   "outputs": [],
   "source": []
  }
 ],
 "metadata": {
  "kernelspec": {
   "display_name": "Python 3 (ipykernel)",
   "language": "python",
   "name": "python3"
  },
  "language_info": {
   "codemirror_mode": {
    "name": "ipython",
    "version": 3
   },
   "file_extension": ".py",
   "mimetype": "text/x-python",
   "name": "python",
   "nbconvert_exporter": "python",
   "pygments_lexer": "ipython3",
   "version": "3.9.12"
  }
 },
 "nbformat": 4,
 "nbformat_minor": 5
}
