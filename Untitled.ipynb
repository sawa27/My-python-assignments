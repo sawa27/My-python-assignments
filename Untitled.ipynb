{
 "cells": [
  {
   "cell_type": "code",
   "execution_count": 1,
   "id": "351398c4",
   "metadata": {},
   "outputs": [
    {
     "ename": "SyntaxError",
     "evalue": "invalid syntax (2382924591.py, line 1)",
     "output_type": "error",
     "traceback": [
      "\u001b[1;36m  Input \u001b[1;32mIn [1]\u001b[1;36m\u001b[0m\n\u001b[1;33m    size = input(Which would you prefer?:)\u001b[0m\n\u001b[1;37m                       ^\u001b[0m\n\u001b[1;31mSyntaxError\u001b[0m\u001b[1;31m:\u001b[0m invalid syntax\n"
     ]
    }
   ],
   "source": [
    "size = input(Which would you prefer?:)"
   ]
  },
  {
   "cell_type": "code",
   "execution_count": 2,
   "id": "d53e248f",
   "metadata": {},
   "outputs": [
    {
     "ename": "SyntaxError",
     "evalue": "invalid syntax (2914137922.py, line 1)",
     "output_type": "error",
     "traceback": [
      "\u001b[1;36m  Input \u001b[1;32mIn [2]\u001b[1;36m\u001b[0m\n\u001b[1;33m    size = input(Which would you prefer?)\u001b[0m\n\u001b[1;37m                       ^\u001b[0m\n\u001b[1;31mSyntaxError\u001b[0m\u001b[1;31m:\u001b[0m invalid syntax\n"
     ]
    }
   ],
   "source": [
    "size = input(Which would you prefer?)\n",
    "extras = input(Would you like extra cheese or pepperoni?)\n"
   ]
  },
  {
   "cell_type": "code",
   "execution_count": 3,
   "id": "e9d4c3d2",
   "metadata": {},
   "outputs": [
    {
     "ename": "SyntaxError",
     "evalue": "invalid syntax (1662854072.py, line 1)",
     "output_type": "error",
     "traceback": [
      "\u001b[1;36m  Input \u001b[1;32mIn [3]\u001b[1;36m\u001b[0m\n\u001b[1;33m    size = input(Which would you prefer?)\u001b[0m\n\u001b[1;37m                       ^\u001b[0m\n\u001b[1;31mSyntaxError\u001b[0m\u001b[1;31m:\u001b[0m invalid syntax\n"
     ]
    }
   ],
   "source": [
    "size = input(Which would you prefer?)\n",
    "bill = f{sizebill + extra + extra1}\n",
    "if size=M:\n",
    "if size= M:\n",
    "    print(Would you like any extras with that?)\n",
    "    elif size= L\n",
    "    print(Would you like any extras with that?)\n",
    "    elif size= S\n",
    "    print(Would you like any extras with that?)\n"
   ]
  },
  {
   "cell_type": "code",
   "execution_count": 7,
   "id": "85cbdf33",
   "metadata": {},
   "outputs": [
    {
     "name": "stdout",
     "output_type": "stream",
     "text": [
      "Welcome to Max Slice\n",
      "Which would you prefer? S, M or LM\n",
      "Do you want pepperroni? Y or N Y\n",
      "Do you want extra cheese? Y or N Y\n",
      "Your final bill is: $24.\n"
     ]
    }
   ],
   "source": [
    "print(\"Welcome to Max Slice\")\n",
    "size = input(\"Which would you prefer? S, M or L\")\n",
    "add_pepperoni = input(\"Do you want pepperroni? Y or N \")\n",
    "extra_cheese = input(\"Do you want extra cheese? Y or N \")\n",
    "if size == \"S\": \n",
    "    bill = 15 \n",
    "    if add_pepperoni == \"Y\": \n",
    "        bill += 2 \n",
    "    if extra_cheese == \"Y\": \n",
    "        bill += 1 \n",
    "        print(f\"Your final bill is: ${bill}.\")\n",
    "    else: print(f\"Your final bill is: ${bill}.\")\n",
    "\n",
    "if size == \"M\": \n",
    "    bill = 20 \n",
    "    if add_pepperoni == \"Y\": \n",
    "        bill += 3 \n",
    "    if extra_cheese == \"Y\": \n",
    "        bill += 1 \n",
    "        print(f\"Your final bill is: ${bill}.\") \n",
    "    else: print(f\"Your final bill is: ${bill}.\")\n",
    "\n",
    "if size == \"L\": \n",
    "    bill = 25 \n",
    "    if add_pepperoni == \"Y\": \n",
    "        bill += 3 \n",
    "    if extra_cheese == \"Y\": \n",
    "        bill += 1 \n",
    "        print(f\"Your final bill is: ${bill}.\") \n",
    "    else: print(f\"Your final bill is: ${bill}.\")\n",
    "    "
   ]
  },
  {
   "cell_type": "code",
   "execution_count": 8,
   "id": "b021acb6",
   "metadata": {},
   "outputs": [
    {
     "name": "stdout",
     "output_type": "stream",
     "text": [
      "Hello, world.\n",
      "Hello, world.\n",
      "Hello, world.\n",
      "Hello, world.\n",
      "Hello, world.\n"
     ]
    }
   ],
   "source": [
    "spam = 0\n",
    "while spam <5:\n",
    "    print('Hello, world.')\n",
    "    spam = spam + 1"
   ]
  },
  {
   "cell_type": "code",
   "execution_count": 9,
   "id": "51184511",
   "metadata": {},
   "outputs": [
    {
     "name": "stdout",
     "output_type": "stream",
     "text": [
      "Hello, world.\n",
      "Hello, world.\n",
      "Hello, world.\n",
      "Hello, world.\n",
      "Hello, world.\n",
      "Hello, world.\n",
      "Hello, world.\n"
     ]
    }
   ],
   "source": [
    "spam = 0\n",
    "while spam <7:\n",
    "    print('Hello, world.')\n",
    "    spam = spam + 1"
   ]
  },
  {
   "cell_type": "code",
   "execution_count": 10,
   "id": "a9d1d4ee",
   "metadata": {},
   "outputs": [
    {
     "name": "stdout",
     "output_type": "stream",
     "text": [
      "Hello, world.\n",
      "Hello, world.\n",
      "Hello, world.\n",
      "Hello, world.\n",
      "Hello, world.\n",
      "Hello, world.\n",
      "Hello, world.\n",
      "Hello, world.\n",
      "Hello, world.\n",
      "Hello, world.\n",
      "Hello, world.\n",
      "Hello, world.\n",
      "Hello, world.\n",
      "Hello, world.\n",
      "Hello, world.\n",
      "Hello, world.\n",
      "Hello, world.\n",
      "Hello, world.\n",
      "Hello, world.\n",
      "Hello, world.\n",
      "Hello, world.\n",
      "Hello, world.\n",
      "Hello, world.\n",
      "Hello, world.\n",
      "Hello, world.\n",
      "Hello, world.\n",
      "Hello, world.\n",
      "Hello, world.\n",
      "Hello, world.\n",
      "Hello, world.\n",
      "Hello, world.\n",
      "Hello, world.\n",
      "Hello, world.\n",
      "Hello, world.\n",
      "Hello, world.\n",
      "Hello, world.\n"
     ]
    }
   ],
   "source": [
    "spam = 2\n",
    "while spam <20:\n",
    "    print('Hello, world.')\n",
    "    spam = spam + 0.5"
   ]
  },
  {
   "cell_type": "code",
   "execution_count": 11,
   "id": "1b946468",
   "metadata": {},
   "outputs": [
    {
     "name": "stdout",
     "output_type": "stream",
     "text": [
      "Hello, world.\n",
      "0\n",
      "Hello, world.\n",
      "1\n",
      "Hello, world.\n",
      "2\n",
      "Hello, world.\n",
      "3\n",
      "Hello, world.\n",
      "4\n",
      "Hello, world.\n",
      "5\n",
      "Hello, world.\n",
      "6\n"
     ]
    }
   ],
   "source": [
    " spam = 0\n",
    "while spam <7:\n",
    "    print('Hello, world.')\n",
    "    print(spam)\n",
    "    spam = spam + 1"
   ]
  },
  {
   "cell_type": "code",
   "execution_count": 12,
   "id": "8e52ef41",
   "metadata": {},
   "outputs": [
    {
     "ename": "SyntaxError",
     "evalue": "EOL while scanning string literal (1830356773.py, line 2)",
     "output_type": "error",
     "traceback": [
      "\u001b[1;36m  Input \u001b[1;32mIn [12]\u001b[1;36m\u001b[0m\n\u001b[1;33m    while spam <15\":\u001b[0m\n\u001b[1;37m                    ^\u001b[0m\n\u001b[1;31mSyntaxError\u001b[0m\u001b[1;31m:\u001b[0m EOL while scanning string literal\n"
     ]
    }
   ],
   "source": [
    " spam = 0\n",
    "while spam <15\":\n",
    "    print('Hello, world.')\n",
    "    print(spam)\n",
    "    spam = spam + 1 "
   ]
  },
  {
   "cell_type": "code",
   "execution_count": 13,
   "id": "5f4da4d4",
   "metadata": {},
   "outputs": [
    {
     "name": "stdout",
     "output_type": "stream",
     "text": [
      "Hello, world.\n",
      "0\n",
      "Hello, world.\n",
      "1\n",
      "Hello, world.\n",
      "2\n",
      "Hello, world.\n",
      "3\n",
      "Hello, world.\n",
      "4\n",
      "Hello, world.\n",
      "5\n",
      "Hello, world.\n",
      "6\n",
      "Hello, world.\n",
      "7\n",
      "Hello, world.\n",
      "8\n",
      "Hello, world.\n",
      "9\n",
      "Hello, world.\n",
      "10\n",
      "Hello, world.\n",
      "11\n",
      "Hello, world.\n",
      "12\n",
      "Hello, world.\n",
      "13\n",
      "Hello, world.\n",
      "14\n"
     ]
    }
   ],
   "source": [
    " spam = 0\n",
    "while spam <15:\n",
    "    print('Hello, world.')\n",
    "    print(spam)\n",
    "    spam = spam + 1"
   ]
  },
  {
   "cell_type": "code",
   "execution_count": 14,
   "id": "05a9cddf",
   "metadata": {},
   "outputs": [
    {
     "data": {
      "text/plain": [
       "[0, 1, 2, 3, 4]"
      ]
     },
     "execution_count": 14,
     "metadata": {},
     "output_type": "execute_result"
    }
   ],
   "source": [
    "list(range(5))"
   ]
  },
  {
   "cell_type": "code",
   "execution_count": null,
   "id": "6ea8bc19",
   "metadata": {},
   "outputs": [],
   "source": []
  }
 ],
 "metadata": {
  "kernelspec": {
   "display_name": "Python 3 (ipykernel)",
   "language": "python",
   "name": "python3"
  },
  "language_info": {
   "codemirror_mode": {
    "name": "ipython",
    "version": 3
   },
   "file_extension": ".py",
   "mimetype": "text/x-python",
   "name": "python",
   "nbconvert_exporter": "python",
   "pygments_lexer": "ipython3",
   "version": "3.9.12"
  }
 },
 "nbformat": 4,
 "nbformat_minor": 5
}
