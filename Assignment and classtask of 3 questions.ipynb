{
 "cells": [
  {
   "cell_type": "code",
   "execution_count": 1,
   "id": "e7c5ce2b",
   "metadata": {},
   "outputs": [
    {
     "name": "stdout",
     "output_type": "stream",
     "text": [
      "Enter your string:\n",
      "beef\n",
      "False\n"
     ]
    }
   ],
   "source": [
    "a=input('Enter your string:\\n')\n",
    "w=str(a)\n",
    "    \n",
    "if w==w[::-1]: # w[::-1] it will reverse\n",
    "    print('True')\n",
    "else:\n",
    "    print('False')"
   ]
  },
  {
   "cell_type": "code",
   "execution_count": 2,
   "id": "e5afa8a8",
   "metadata": {},
   "outputs": [],
   "source": [
    "def palindrome(string):\n",
    "    if string == string[::-1]:\n",
    "        print('True')\n",
    "    else:\n",
    "        print('False')"
   ]
  },
  {
   "cell_type": "code",
   "execution_count": 3,
   "id": "0a21ccc0",
   "metadata": {},
   "outputs": [
    {
     "name": "stdout",
     "output_type": "stream",
     "text": [
      "False\n"
     ]
    }
   ],
   "source": [
    "palindrome('beef')"
   ]
  },
  {
   "cell_type": "code",
   "execution_count": 37,
   "id": "1d35cd1b",
   "metadata": {},
   "outputs": [],
   "source": [
    "# Pick a number\n",
    "a = [3, 4, 5,..., 30]\n",
    "b = [2, 3, 4, 5,..., 20]\n",
    "def evenorodd(N):\n",
    "    if N%2 ==0:\n",
    "        print('even')\n",
    "        if N in the range(2,20):\n",
    "            print(f'{N} is within 2 to 20)\n",
    "    else:\n",
    "        print('odd')\n",
    "        if N in the range(3,30):\n",
    "                  print(f'{N} is within 3 to 30)\n",
    "        \n",
    "\n"
   ]
  },
  {
   "cell_type": "code",
   "execution_count": 41,
   "id": "40442921",
   "metadata": {},
   "outputs": [
    {
     "name": "stdout",
     "output_type": "stream",
     "text": [
      "even\n"
     ]
    }
   ],
   "source": [
    "evenorodd(12)"
   ]
  },
  {
   "cell_type": "code",
   "execution_count": null,
   "id": "2e41eac2",
   "metadata": {},
   "outputs": [],
   "source": []
  },
  {
   "cell_type": "code",
   "execution_count": 32,
   "id": "0c1ffe63",
   "metadata": {},
   "outputs": [],
   "source": [
    "def year(leap):\n",
    "        if leap %4 == 0:\n",
    "            print('This is a Leap year')\n",
    "        else:\n",
    "            print('None of my business')"
   ]
  },
  {
   "cell_type": "code",
   "execution_count": 29,
   "id": "4e5f783b",
   "metadata": {},
   "outputs": [
    {
     "name": "stdout",
     "output_type": "stream",
     "text": [
      "This is a Leap year\n"
     ]
    }
   ],
   "source": [
    "year(2020)"
   ]
  },
  {
   "cell_type": "code",
   "execution_count": 38,
   "id": "7a5808ea",
   "metadata": {},
   "outputs": [
    {
     "name": "stdout",
     "output_type": "stream",
     "text": [
      "Please write your ratio of presence to absence : attendace(present, absent)\n"
     ]
    }
   ],
   "source": [
    "print('Please write your ratio of presence to absence : attendace(present, absent)')\n",
    "\n",
    "a = (int) \n",
    "b = (int) \n",
    "def attendance(a,b):\n",
    "    if ((a/(a+b))*100) < 75:\n",
    "        print('You are not eligible for the exam')\n",
    "    else:\n",
    "        print('You are eligible for the exam')\n",
    "\n",
    "\n",
    "\n"
   ]
  },
  {
   "cell_type": "code",
   "execution_count": 42,
   "id": "f75cba31",
   "metadata": {},
   "outputs": [
    {
     "name": "stdout",
     "output_type": "stream",
     "text": [
      "You are not eligible for the exam\n"
     ]
    }
   ],
   "source": [
    "attendance(30,20)"
   ]
  },
  {
   "cell_type": "code",
   "execution_count": null,
   "id": "eb50700e",
   "metadata": {},
   "outputs": [],
   "source": []
  }
 ],
 "metadata": {
  "kernelspec": {
   "display_name": "Python 3 (ipykernel)",
   "language": "python",
   "name": "python3"
  },
  "language_info": {
   "codemirror_mode": {
    "name": "ipython",
    "version": 3
   },
   "file_extension": ".py",
   "mimetype": "text/x-python",
   "name": "python",
   "nbconvert_exporter": "python",
   "pygments_lexer": "ipython3",
   "version": "3.9.12"
  }
 },
 "nbformat": 4,
 "nbformat_minor": 5
}
